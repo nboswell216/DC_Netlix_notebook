{
 "cells": [
  {
   "cell_type": "markdown",
   "metadata": {},
   "source": [
    "This project has been supplied with the dataset `netflix_data.csv` , along with the following table detailing the column names and descriptions. This data does contain null values and some outliers, but handling these is out of scope for the project. Feel free to experiment after submitting!\n",
    "\n",
    "## The data\n",
    "\n",
    "### **netflix_data.csv**\n",
    "| Column | Description |\n",
    "|--------|-------------|\n",
    "| `show_id` | The ID of the show |\n",
    "| `type` | Type of show |\n",
    "| `title` | Title of the show |\n",
    "| `director` | Director of the show |\n",
    "| `cast` | Cast of the show |\n",
    "| `country` | Country of origin |\n",
    "| `date_added` | Date added to Netflix |\n",
    "| `release_year` | Year of Netflix release |\n",
    "| `duration` | Duration of the show in minutes |\n",
    "| `description` | Description of the show |\n",
    "| `genre` | Show genre |"
   ]
  },
  {
   "cell_type": "code",
   "execution_count": 1,
   "metadata": {},
   "outputs": [
    {
     "name": "stdout",
     "output_type": "stream",
     "text": [
      "     show_id   type                                    title  \\\n",
      "1         s2  Movie                                     7:19   \n",
      "2         s3  Movie                                    23:59   \n",
      "3         s4  Movie                                        9   \n",
      "4         s5  Movie                                       21   \n",
      "6         s7  Movie                                      122   \n",
      "...      ...    ...                                      ...   \n",
      "7781   s7782  Movie                                     Zoom   \n",
      "7782   s7783  Movie                                     Zozo   \n",
      "7783   s7784  Movie                                   Zubaan   \n",
      "7784   s7785  Movie                        Zulu Man in Japan   \n",
      "7786   s7787  Movie  ZZ TOP: THAT LITTLE OL' BAND FROM TEXAS   \n",
      "\n",
      "               director                                               cast  \\\n",
      "1     Jorge Michel Grau  Demián Bichir, Héctor Bonilla, Oscar Serrano, ...   \n",
      "2          Gilbert Chan  Tedd Chan, Stella Chung, Henley Hii, Lawrence ...   \n",
      "3           Shane Acker  Elijah Wood, John C. Reilly, Jennifer Connelly...   \n",
      "4        Robert Luketic  Jim Sturgess, Kevin Spacey, Kate Bosworth, Aar...   \n",
      "6       Yasir Al Yasiri  Amina Khalil, Ahmed Dawood, Tarek Lotfy, Ahmed...   \n",
      "...                 ...                                                ...   \n",
      "7781       Peter Hewitt  Tim Allen, Courteney Cox, Chevy Chase, Kate Ma...   \n",
      "7782        Josef Fares  Imad Creidi, Antoinette Turk, Elias Gergi, Car...   \n",
      "7783        Mozez Singh  Vicky Kaushal, Sarah-Jane Dias, Raaghav Chanan...   \n",
      "7784                NaN                                            Nasty C   \n",
      "7786           Sam Dunn                                                NaN   \n",
      "\n",
      "             country          date_added  release_year  duration  \\\n",
      "1             Mexico   December 23, 2016          2016        93   \n",
      "2          Singapore   December 20, 2018          2011        78   \n",
      "3      United States   November 16, 2017          2009        80   \n",
      "4      United States     January 1, 2020          2008       123   \n",
      "6              Egypt        June 1, 2020          2019        95   \n",
      "...              ...                 ...           ...       ...   \n",
      "7781   United States    January 11, 2020          2006        88   \n",
      "7782          Sweden    October 19, 2020          2005        99   \n",
      "7783           India       March 2, 2019          2015       111   \n",
      "7784             NaN  September 25, 2020          2019        44   \n",
      "7786  United Kingdom       March 1, 2020          2019        90   \n",
      "\n",
      "                                            description          genre  \n",
      "1     After a devastating earthquake hits Mexico Cit...         Dramas  \n",
      "2     When an army recruit is found dead, his fellow...  Horror Movies  \n",
      "3     In a postapocalyptic world, rag-doll robots hi...         Action  \n",
      "4     A brilliant group of students become card-coun...         Dramas  \n",
      "6     After an awful accident, a couple admitted to ...  Horror Movies  \n",
      "...                                                 ...            ...  \n",
      "7781  Dragged from civilian life, a former superhero...       Children  \n",
      "7782  When Lebanon's Civil War deprives Zozo of his ...         Dramas  \n",
      "7783  A scrappy but poor boy worms his way into a ty...         Dramas  \n",
      "7784  In this documentary, South African rapper Nast...  Documentaries  \n",
      "7786  This documentary delves into the mystique behi...  Documentaries  \n",
      "\n",
      "[5377 rows x 11 columns]\n"
     ]
    }
   ],
   "source": [
    "# Import pandas and matplotlib\n",
    "import pandas as pd\n",
    "import matplotlib.pyplot as plt\n",
    "\n",
    "# Load CSV data\n",
    "netflix_df = pd.read_csv('netflix_data.csv')\n",
    "netflix_movies = netflix_df[netflix_df['type'] == 'Movie']\n",
    "#print(netflix_movies)"
   ]
  }
 ],
 "metadata": {
  "kernelspec": {
   "display_name": "Python 3",
   "language": "python",
   "name": "python3"
  },
  "language_info": {
   "codemirror_mode": {
    "name": "ipython",
    "version": 3
   },
   "file_extension": ".py",
   "mimetype": "text/x-python",
   "name": "python",
   "nbconvert_exporter": "python",
   "pygments_lexer": "ipython3",
   "version": "3.9.6"
  }
 },
 "nbformat": 4,
 "nbformat_minor": 2
}
